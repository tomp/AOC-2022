{
 "cells": [
  {
   "cell_type": "code",
   "execution_count": null,
   "id": "19974fdb-7c99-40fd-a22e-0c82ffcd3203",
   "metadata": {},
   "outputs": [],
   "source": [
    "from day20 import *"
   ]
  },
  {
   "cell_type": "code",
   "execution_count": null,
   "id": "9f33b198-a8af-4ca5-bb0f-2a031aa2f60e",
   "metadata": {},
   "outputs": [],
   "source": [
    "lines = load_text(SAMPLE_CASES[0][0])"
   ]
  },
  {
   "cell_type": "code",
   "execution_count": null,
   "id": "e523874d-a9e2-47b1-b732-6d68c2c3eb5a",
   "metadata": {},
   "outputs": [],
   "source": [
    "values = list(map(int, lines))\n",
    "locs = list(range(len(values)))\n",
    "print(values, locs)"
   ]
  },
  {
   "cell_type": "code",
   "execution_count": null,
   "id": "ee7e8899-ff02-4fd4-8d2b-4ece272ce5c1",
   "metadata": {},
   "outputs": [],
   "source": [
    "input_lines = load_input(INPUTFILE)\n",
    "part1_values = list(map(int, input_lines))"
   ]
  },
  {
   "cell_type": "code",
   "execution_count": null,
   "id": "6b070c26-6c8d-4129-98d5-a4d28dabf3c5",
   "metadata": {
    "tags": []
   },
   "outputs": [],
   "source": [
    "len(part1_values), len(set(part1_values))"
   ]
  },
  {
   "cell_type": "code",
   "execution_count": 142,
   "id": "40c45fec-967b-47d1-890c-16daf5d34b55",
   "metadata": {},
   "outputs": [
    {
     "data": {
      "text/plain": [
       "(-1, -1, -2)"
      ]
     },
     "execution_count": 142,
     "metadata": {},
     "output_type": "execute_result"
    }
   ],
   "source": [
    "-2 //3, -3 // 3, -4 // 3"
   ]
  },
  {
   "cell_type": "code",
   "execution_count": null,
   "id": "10baa63e-71ef-41af-b164-845ad293aeda",
   "metadata": {
    "jupyter": {
     "source_hidden": true
    },
    "tags": []
   },
   "outputs": [],
   "source": [
    "def mix_v1(values, pos, delta):\n",
    "    size = len(values)\n",
    "    maxpos = size - 1\n",
    "    \n",
    "    val = values[pos]\n",
    "    debug = (val == delta) and (len(values) < 10)\n",
    "    debug = True\n",
    "    if debug:\n",
    "        print(f\"--- mix({values}, {pos}, {delta})\")\n",
    "    \n",
    "    if delta == 0:\n",
    "        if debug:\n",
    "            print(f\"value {val} at pos {pos} does not move\")\n",
    "        return values\n",
    "    \n",
    "    new_pos = (pos + delta) % len(values)\n",
    "    if new_pos == 0:\n",
    "        if delta < 0:\n",
    "            new_pos = maxpos\n",
    "        # else:\n",
    "        #     new_pos = 1\n",
    "    elif new_pos == maxpos:\n",
    "        if delta < 0:\n",
    "            new_pos = maxpos - 1\n",
    "            \n",
    "    if new_pos > pos:\n",
    "        dest = new_pos + 1\n",
    "        if debug:\n",
    "            print(f\"value {val} at pos {pos} moves to pos {new_pos} (dest {dest})\")\n",
    "        return values[:pos] + values[pos+1:dest] + [val] + values[dest:]\n",
    "\n",
    "    if new_pos < pos:\n",
    "        dest = new_pos if delta < 0 else new_pos + 1\n",
    "        if debug:\n",
    "            print(f\"value {val} at pos {pos} moves to pos {new_pos} (dest {dest})\")\n",
    "        return values[:dest] + [val] + values[dest:pos] + values[pos+1:]"
   ]
  },
  {
   "cell_type": "code",
   "execution_count": 157,
   "id": "1cf274ec-fe6f-42c1-b88a-01d9e22c4244",
   "metadata": {
    "jupyter": {
     "source_hidden": true
    },
    "tags": []
   },
   "outputs": [],
   "source": [
    "def mix_v2(values, pos, delta):\n",
    "    size = len(values)\n",
    "    maxpos = size - 1\n",
    "    \n",
    "    val = values[pos]\n",
    "    debug = (val == delta) and (len(values) < 10)\n",
    "    debug = True\n",
    "    if debug:\n",
    "        print(f\"--- mix({values}, {pos}, {delta})\")\n",
    "    \n",
    "    if delta > maxpos:\n",
    "        dest = (pos + delta + 1 + (delta // maxpos)) % size\n",
    "    elif delta > 0:\n",
    "        dest = (pos + delta + 1) % size\n",
    "    elif delta < -maxpos:\n",
    "        dest = (pos + delta + (delta - 1) // maxpos) % size\n",
    "    else:\n",
    "        dest = (pos + delta) % size\n",
    "\n",
    "    if dest == pos or dest == pos + 1:\n",
    "        if debug:\n",
    "            print(f\"value {val} at pos {pos} does not move\")\n",
    "        return values\n",
    "               \n",
    "    if dest > pos:\n",
    "        if debug:\n",
    "            print(f\"value {val} at pos {pos} moves before pos {dest}\")\n",
    "        return values[:pos] + values[pos+1:dest] + [val] + values[dest:]\n",
    "\n",
    "    if dest < pos:\n",
    "        if debug:\n",
    "            print(f\"value {val} at pos {pos} moves before pos {dest}\")\n",
    "        return values[:dest] + [val] + values[dest:pos] + values[pos+1:]"
   ]
  },
  {
   "cell_type": "code",
   "execution_count": 158,
   "id": "6f5f754d-4ac1-4688-a083-569e5a8c9e95",
   "metadata": {},
   "outputs": [],
   "source": [
    "def mix(values, pos, delta):\n",
    "    size = len(values)\n",
    "    maxpos = size - 1\n",
    "    \n",
    "    val = values[pos]\n",
    "    debug = (val == delta) and (len(values) < 10)\n",
    "    debug = True\n",
    "    if debug:\n",
    "        print(f\"--- mix({values}, {pos}, {delta})\")\n",
    "    \n",
    "    new_pos = (pos + delta) % maxpos\n",
    "    if new_pos > pos:\n",
    "        new_pos += 1\n",
    "    \n",
    "    dest = new_pos\n",
    "    if dest == pos:\n",
    "        if debug:\n",
    "            print(f\"value {val} at pos {pos} does not move\")\n",
    "        return values\n",
    "               \n",
    "    if dest > pos:\n",
    "        if debug:\n",
    "            print(f\"value {val} at pos {pos} moves before pos {dest}\")\n",
    "        return values[:pos] + values[pos+1:dest] + [val] + values[dest:]\n",
    "\n",
    "    if dest < pos:\n",
    "        if debug:\n",
    "            print(f\"value {val} at pos {pos} moves before pos {dest}\")\n",
    "        return values[:dest] + [val] + values[dest:pos] + values[pos+1:]"
   ]
  },
  {
   "cell_type": "code",
   "execution_count": 132,
   "id": "a4d94c8c-ea53-4c9e-9616-4176bc9c0bb6",
   "metadata": {
    "jupyter": {
     "source_hidden": true
    },
    "tags": []
   },
   "outputs": [],
   "source": [
    " def score(values):\n",
    "    idx = values.index(0)\n",
    "    at1000 = (idx + 1000) % len(values)\n",
    "    at2000 = (idx + 2000) % len(values)\n",
    "    at3000 = (idx + 3000) % len(values)\n",
    "    return values[at1000] + values[at2000] + values[at3000]"
   ]
  },
  {
   "cell_type": "code",
   "execution_count": 159,
   "id": "f3fbfb20-e6fc-48b9-b237-f296207c9ade",
   "metadata": {
    "tags": []
   },
   "outputs": [],
   "source": [
    "cases1 = [\n",
    "    (\n",
    "        ([0,1,2,3,4,5,6], (0, 1)),\n",
    "         [1,0,2,3,4,5,6]\n",
    "    ),\n",
    "    (\n",
    "        ([0,1,2,3,4,5,6], (0, 2)),\n",
    "         [1,2,0,3,4,5,6]\n",
    "     ),\n",
    "    (\n",
    "        ([0,1,2,3,4,5,6], (0, 3)),\n",
    "         [1,2,3,0,4,5,6]\n",
    "     ),\n",
    "    (\n",
    "        ([0,1,2,3,4,5,6], (0, 4)),\n",
    "         [1,2,3,4,0,5,6]\n",
    "     ),\n",
    "    (\n",
    "        ([0,1,2,3,4,5,6], (0, 5)),\n",
    "         [1,2,3,4,5,0,6]\n",
    "    ),\n",
    "    (\n",
    "        ([0,1,2,3,4,5,6], (0, 6)),\n",
    "         [0,1,2,3,4,5,6]\n",
    "    ),\n",
    "    (\n",
    "        ([0,1,2,3,4,5,6], (0, 7)),\n",
    "         [1,0,2,3,4,5,6]\n",
    "    ),\n",
    "    (\n",
    "        ([0,1,2,3,4,5,6], (0, 8)),\n",
    "         [1,2,0,3,4,5,6]\n",
    "    ),\n",
    "    (\n",
    "        ([0,1,2,3,4,5,6], (0, 9)),\n",
    "        [1,2,3,0,4,5,6]\n",
    "    ),\n",
    "    (\n",
    "        ([0,1,2,3,4,5,6], (0, 10)),\n",
    "         [1,2,3,4,0,5,6]\n",
    "    ),\n",
    "    (\n",
    "        ([0,1,2,3,4,5,6], (0, 11)),\n",
    "         [1,2,3,4,5,0,6]\n",
    "    ),\n",
    "    (\n",
    "        ([0,1,2,3,4,5,6], (0, 12)),\n",
    "         [0,1,2,3,4,5,6]\n",
    "    ),\n",
    "    (\n",
    "        ([0,1,2,3,4,5,6], (0, 13)),\n",
    "        [1,0,2,3,4,5,6]\n",
    "    ),\n",
    "    (\n",
    "        ([0,1,2,3,4,5,6], (0, 16)),\n",
    "         [1,2,3,4,0,5,6]\n",
    "    ),\n",
    "    (\n",
    "        ([0,1,2,3,4,5,6], (0, 17)),\n",
    "         [1,2,3,4,5,0,6]\n",
    "    ),\n",
    "    (\n",
    "        ([0,1,2,3,4,5,6], (0, 18)),\n",
    "         [0,1,2,3,4,5,6]\n",
    "    ),\n",
    "    (\n",
    "        ([0,1,2,3,4,5,6], (0, 19)),\n",
    "        [1,0,2,3,4,5,6]\n",
    "    ),]"
   ]
  },
  {
   "cell_type": "code",
   "execution_count": 160,
   "id": "3738c9d8-f3a2-4e0e-a20b-3a9701617e64",
   "metadata": {
    "tags": []
   },
   "outputs": [
    {
     "name": "stdout",
     "output_type": "stream",
     "text": [
      "--- mix([0, 1, 2, 3, 4, 5, 6], 0, 1)\n",
      "value 0 at pos 0 moves before pos 2\n",
      "[1, 0, 2, 3, 4, 5, 6]\n",
      "\n",
      "--- mix([0, 1, 2, 3, 4, 5, 6], 0, 2)\n",
      "value 0 at pos 0 moves before pos 3\n",
      "[1, 2, 0, 3, 4, 5, 6]\n",
      "\n",
      "--- mix([0, 1, 2, 3, 4, 5, 6], 0, 3)\n",
      "value 0 at pos 0 moves before pos 4\n",
      "[1, 2, 3, 0, 4, 5, 6]\n",
      "\n",
      "--- mix([0, 1, 2, 3, 4, 5, 6], 0, 4)\n",
      "value 0 at pos 0 moves before pos 5\n",
      "[1, 2, 3, 4, 0, 5, 6]\n",
      "\n",
      "--- mix([0, 1, 2, 3, 4, 5, 6], 0, 5)\n",
      "value 0 at pos 0 moves before pos 6\n",
      "[1, 2, 3, 4, 5, 0, 6]\n",
      "\n",
      "--- mix([0, 1, 2, 3, 4, 5, 6], 0, 6)\n",
      "value 0 at pos 0 does not move\n",
      "[0, 1, 2, 3, 4, 5, 6]\n",
      "\n",
      "--- mix([0, 1, 2, 3, 4, 5, 6], 0, 7)\n",
      "value 0 at pos 0 moves before pos 2\n",
      "[1, 0, 2, 3, 4, 5, 6]\n",
      "\n",
      "--- mix([0, 1, 2, 3, 4, 5, 6], 0, 8)\n",
      "value 0 at pos 0 moves before pos 3\n",
      "[1, 2, 0, 3, 4, 5, 6]\n",
      "\n",
      "--- mix([0, 1, 2, 3, 4, 5, 6], 0, 9)\n",
      "value 0 at pos 0 moves before pos 4\n",
      "[1, 2, 3, 0, 4, 5, 6]\n",
      "\n",
      "--- mix([0, 1, 2, 3, 4, 5, 6], 0, 10)\n",
      "value 0 at pos 0 moves before pos 5\n",
      "[1, 2, 3, 4, 0, 5, 6]\n",
      "\n",
      "--- mix([0, 1, 2, 3, 4, 5, 6], 0, 11)\n",
      "value 0 at pos 0 moves before pos 6\n",
      "[1, 2, 3, 4, 5, 0, 6]\n",
      "\n",
      "--- mix([0, 1, 2, 3, 4, 5, 6], 0, 12)\n",
      "value 0 at pos 0 does not move\n",
      "[0, 1, 2, 3, 4, 5, 6]\n",
      "\n",
      "--- mix([0, 1, 2, 3, 4, 5, 6], 0, 13)\n",
      "value 0 at pos 0 moves before pos 2\n",
      "[1, 0, 2, 3, 4, 5, 6]\n",
      "\n",
      "--- mix([0, 1, 2, 3, 4, 5, 6], 0, 16)\n",
      "value 0 at pos 0 moves before pos 5\n",
      "[1, 2, 3, 4, 0, 5, 6]\n",
      "\n",
      "--- mix([0, 1, 2, 3, 4, 5, 6], 0, 17)\n",
      "value 0 at pos 0 moves before pos 6\n",
      "[1, 2, 3, 4, 5, 0, 6]\n",
      "\n",
      "--- mix([0, 1, 2, 3, 4, 5, 6], 0, 18)\n",
      "value 0 at pos 0 does not move\n",
      "[0, 1, 2, 3, 4, 5, 6]\n",
      "\n",
      "--- mix([0, 1, 2, 3, 4, 5, 6], 0, 19)\n",
      "value 0 at pos 0 moves before pos 2\n",
      "[1, 0, 2, 3, 4, 5, 6]\n",
      "\n"
     ]
    }
   ],
   "source": [
    "for (v, (pos, delta)), expected in cases1:\n",
    "    v1 = mix(v, pos, delta)\n",
    "    print(v1)\n",
    "    assert v1 is not None, f\"mix({pos},{delta}) --> {v1}\"\n",
    "    assert 0 in v1, f\"mix({pos},{delta}) --> {v1}\"\n",
    "    assert score(v1) == score(expected), f\"mix({pos},{delta}) --> {v1} (exp {v})\"\n",
    "    print()"
   ]
  },
  {
   "cell_type": "code",
   "execution_count": 161,
   "id": "718c050b-56c0-4614-9eb9-3b59888b52c3",
   "metadata": {},
   "outputs": [],
   "source": [
    "cases2 = [\n",
    "    (\n",
    "        ([0,1,2,3,4,5,6], (0, -1)),\n",
    "         [1,2,3,4,5,0,6]\n",
    "    ),\n",
    "    (\n",
    "        ([0,1,2,3,4,5,6], (0, -2)),\n",
    "         [1,2,3,4,0,5,6]\n",
    "     ),\n",
    "    (\n",
    "        ([0,1,2,3,4,5,6], (0, -3)),\n",
    "         [1,2,3,0,4,5,6]\n",
    "     ),\n",
    "    (\n",
    "        ([0,1,2,3,4,5,6], (0, -4)),\n",
    "         [1,2,0,3,4,5,6]\n",
    "     ),\n",
    "    (\n",
    "        ([0,1,2,3,4,5,6], (0, -5)),\n",
    "         [1,0,2,3,4,5,6]\n",
    "    ),\n",
    "    (\n",
    "        ([0,1,2,3,4,5,6], (0, -6)), # -6 -> 1\n",
    "         [0,1,2,3,4,5,6]\n",
    "    ),\n",
    "    (\n",
    "        ([0,1,2,3,4,5,6], (0, -7)), # -8 -> 6\n",
    "         [1,2,3,4,5,0,6]\n",
    "    ),\n",
    "    (\n",
    "        ([0,1,2,3,4,5,6], (0, -8)), # -9 -> 5\n",
    "         [1,2,3,4,0,5,6]\n",
    "    ),\n",
    "    (\n",
    "        ([0,1,2,3,4,5,6], (0, -9)),\n",
    "        [1,2,3,0,4,5,6]\n",
    "    ),\n",
    "    (\n",
    "        ([0,1,2,3,4,5,6], (0, -10)),\n",
    "        [1,2,0,3,4,5,6]\n",
    "    ),\n",
    "    (\n",
    "        ([0,1,2,3,4,5,6], (0, -11)),\n",
    "        [1,0,2,3,4,5,6]\n",
    "    ),\n",
    "    (\n",
    "        ([0,1,2,3,4,5,6], (0, -12)), # \n",
    "         [0,1,2,3,4,5,6]\n",
    "    ),\n",
    "    (\n",
    "        ([0,1,2,3,4,5,6], (0, -13)),\n",
    "         [1,2,3,4,5,0,6]\n",
    "    ),\n",
    "    (\n",
    "        ([0,1,2,3,4,5,6], (0, -14)),\n",
    "         [1,2,3,4,0,5,6]\n",
    "    ),\n",
    "    (\n",
    "        ([0,1,2,3,4,5,6], (0, -17)),\n",
    "        [1,0,2,3,4,5,6]\n",
    "    ),\n",
    "    (\n",
    "        ([0,1,2,3,4,5,6], (0, -18)),\n",
    "         [0,1,2,3,4,5,6]\n",
    "    ),\n",
    "    (\n",
    "        ([0,1,2,3,4,5,6], (0, -19)),\n",
    "         [1,2,3,4,5,0,6]\n",
    "    ),\n",
    "    (\n",
    "        ([0,1,2,3,4,5,6], (0, -20)),\n",
    "         [1,2,3,4,0,5,6]\n",
    "    ),\n",
    "]"
   ]
  },
  {
   "cell_type": "code",
   "execution_count": 162,
   "id": "2f34eb4d-b017-4c40-ba71-f40c40ce4b99",
   "metadata": {},
   "outputs": [
    {
     "name": "stdout",
     "output_type": "stream",
     "text": [
      "--- mix([0, 1, 2, 3, 4, 5, 6], 0, -1)\n",
      "value 0 at pos 0 moves before pos 6\n",
      "[1, 2, 3, 4, 5, 0, 6]\n",
      "\n",
      "--- mix([0, 1, 2, 3, 4, 5, 6], 0, -2)\n",
      "value 0 at pos 0 moves before pos 5\n",
      "[1, 2, 3, 4, 0, 5, 6]\n",
      "\n",
      "--- mix([0, 1, 2, 3, 4, 5, 6], 0, -3)\n",
      "value 0 at pos 0 moves before pos 4\n",
      "[1, 2, 3, 0, 4, 5, 6]\n",
      "\n",
      "--- mix([0, 1, 2, 3, 4, 5, 6], 0, -4)\n",
      "value 0 at pos 0 moves before pos 3\n",
      "[1, 2, 0, 3, 4, 5, 6]\n",
      "\n",
      "--- mix([0, 1, 2, 3, 4, 5, 6], 0, -5)\n",
      "value 0 at pos 0 moves before pos 2\n",
      "[1, 0, 2, 3, 4, 5, 6]\n",
      "\n",
      "--- mix([0, 1, 2, 3, 4, 5, 6], 0, -6)\n",
      "value 0 at pos 0 does not move\n",
      "[0, 1, 2, 3, 4, 5, 6]\n",
      "\n",
      "--- mix([0, 1, 2, 3, 4, 5, 6], 0, -7)\n",
      "value 0 at pos 0 moves before pos 6\n",
      "[1, 2, 3, 4, 5, 0, 6]\n",
      "\n",
      "--- mix([0, 1, 2, 3, 4, 5, 6], 0, -8)\n",
      "value 0 at pos 0 moves before pos 5\n",
      "[1, 2, 3, 4, 0, 5, 6]\n",
      "\n",
      "--- mix([0, 1, 2, 3, 4, 5, 6], 0, -9)\n",
      "value 0 at pos 0 moves before pos 4\n",
      "[1, 2, 3, 0, 4, 5, 6]\n",
      "\n",
      "--- mix([0, 1, 2, 3, 4, 5, 6], 0, -10)\n",
      "value 0 at pos 0 moves before pos 3\n",
      "[1, 2, 0, 3, 4, 5, 6]\n",
      "\n",
      "--- mix([0, 1, 2, 3, 4, 5, 6], 0, -11)\n",
      "value 0 at pos 0 moves before pos 2\n",
      "[1, 0, 2, 3, 4, 5, 6]\n",
      "\n",
      "--- mix([0, 1, 2, 3, 4, 5, 6], 0, -12)\n",
      "value 0 at pos 0 does not move\n",
      "[0, 1, 2, 3, 4, 5, 6]\n",
      "\n",
      "--- mix([0, 1, 2, 3, 4, 5, 6], 0, -13)\n",
      "value 0 at pos 0 moves before pos 6\n",
      "[1, 2, 3, 4, 5, 0, 6]\n",
      "\n",
      "--- mix([0, 1, 2, 3, 4, 5, 6], 0, -14)\n",
      "value 0 at pos 0 moves before pos 5\n",
      "[1, 2, 3, 4, 0, 5, 6]\n",
      "\n",
      "--- mix([0, 1, 2, 3, 4, 5, 6], 0, -17)\n",
      "value 0 at pos 0 moves before pos 2\n",
      "[1, 0, 2, 3, 4, 5, 6]\n",
      "\n",
      "--- mix([0, 1, 2, 3, 4, 5, 6], 0, -18)\n",
      "value 0 at pos 0 does not move\n",
      "[0, 1, 2, 3, 4, 5, 6]\n",
      "\n",
      "--- mix([0, 1, 2, 3, 4, 5, 6], 0, -19)\n",
      "value 0 at pos 0 moves before pos 6\n",
      "[1, 2, 3, 4, 5, 0, 6]\n",
      "\n",
      "--- mix([0, 1, 2, 3, 4, 5, 6], 0, -20)\n",
      "value 0 at pos 0 moves before pos 5\n",
      "[1, 2, 3, 4, 0, 5, 6]\n",
      "\n"
     ]
    }
   ],
   "source": [
    "for (v, (pos, delta)), expected in cases2:\n",
    "    v1 = mix(v, pos, delta)\n",
    "    print(v1)\n",
    "    assert v1 is not None, f\"mix({pos},{delta}) --> {v1}\"\n",
    "    assert 0 in v1, f\"mix({pos},{delta}) --> {v1}\"\n",
    "    assert score(v1) == score(expected), f\"mix({pos},{delta}) --> {v1} (exp {v})\"\n",
    "    print()"
   ]
  },
  {
   "cell_type": "code",
   "execution_count": 14,
   "id": "c99a128d-c46b-43fc-a5ca-7bb9657b3f4d",
   "metadata": {},
   "outputs": [
    {
     "name": "stdout",
     "output_type": "stream",
     "text": [
      "--- mix([0, 1, 2, 3, 4, 5, 6], 0, 1)\n",
      "value 0 at pos 0 moves before pos 2\n"
     ]
    },
    {
     "data": {
      "text/plain": [
       "True"
      ]
     },
     "execution_count": 14,
     "metadata": {},
     "output_type": "execute_result"
    }
   ],
   "source": [
    "v = [0, 1, 2, 3, 4, 5, 6]\n",
    "mix(v, 0, 1) == [1, 0, 2, 3, 4, 5, 6]"
   ]
  },
  {
   "cell_type": "code",
   "execution_count": 15,
   "id": "0867aed8-f5ac-4655-b849-a92f968df1c8",
   "metadata": {
    "tags": []
   },
   "outputs": [
    {
     "name": "stdout",
     "output_type": "stream",
     "text": [
      "--- mix([0, 1, 2, 3, 4, 5, 6], 0, 2)\n",
      "value 0 at pos 0 moves before pos 3\n"
     ]
    },
    {
     "data": {
      "text/plain": [
       "True"
      ]
     },
     "execution_count": 15,
     "metadata": {},
     "output_type": "execute_result"
    }
   ],
   "source": [
    "v = [0, 1, 2, 3, 4, 5, 6]\n",
    "mix(v, 0, 2) == [1, 2, 0, 3, 4, 5, 6]"
   ]
  },
  {
   "cell_type": "code",
   "execution_count": 16,
   "id": "a1f9a62f-d139-456b-af57-755ec1f752cc",
   "metadata": {
    "tags": []
   },
   "outputs": [
    {
     "name": "stdout",
     "output_type": "stream",
     "text": [
      "--- mix([0, 1, 2, 3, 4, 5, 6], 0, -1)\n",
      "value 0 at pos 0 moves before pos 6\n"
     ]
    },
    {
     "data": {
      "text/plain": [
       "True"
      ]
     },
     "execution_count": 16,
     "metadata": {},
     "output_type": "execute_result"
    }
   ],
   "source": [
    "v = [0, 1, 2, 3, 4, 5, 6]\n",
    "mix(v, 0, -1) == [1, 2, 3, 4, 5, 0, 6]"
   ]
  },
  {
   "cell_type": "code",
   "execution_count": 17,
   "id": "94e4ae38-9086-470b-b0d6-8f423a683842",
   "metadata": {},
   "outputs": [
    {
     "name": "stdout",
     "output_type": "stream",
     "text": [
      "--- mix([0, 1, 2, 3, 4, 5, 6], 0, -2)\n",
      "value 0 at pos 0 moves before pos 5\n"
     ]
    },
    {
     "data": {
      "text/plain": [
       "True"
      ]
     },
     "execution_count": 17,
     "metadata": {},
     "output_type": "execute_result"
    }
   ],
   "source": [
    "v = [0, 1, 2, 3, 4, 5, 6]\n",
    "mix(v, 0, -2) == [1, 2, 3, 4, 0, 5, 6]"
   ]
  },
  {
   "cell_type": "code",
   "execution_count": 18,
   "id": "dfe5f8f1-a9e4-4859-bd00-71d8719fbd06",
   "metadata": {
    "tags": []
   },
   "outputs": [
    {
     "name": "stdout",
     "output_type": "stream",
     "text": [
      "--- mix([0, 1, 2, 3, 4, 5, 6], 2, -1)\n",
      "value 2 at pos 2 moves before pos 1\n"
     ]
    },
    {
     "data": {
      "text/plain": [
       "True"
      ]
     },
     "execution_count": 18,
     "metadata": {},
     "output_type": "execute_result"
    }
   ],
   "source": [
    "v = [0, 1, 2, 3, 4, 5, 6]\n",
    "mix(v, 2, -1) == [0, 2, 1, 3, 4, 5, 6]"
   ]
  },
  {
   "cell_type": "code",
   "execution_count": 21,
   "id": "e4c746ee-0ffb-4378-8b22-35722d74ec98",
   "metadata": {},
   "outputs": [
    {
     "name": "stdout",
     "output_type": "stream",
     "text": [
      "--- mix([0, 1, 2, 3, 4, 5, 6], 2, -2)\n",
      "value 2 at pos 2 moves before pos 0\n",
      "[2, 0, 1, 3, 4, 5, 6]\n"
     ]
    },
    {
     "data": {
      "text/plain": [
       "(13, 13)"
      ]
     },
     "execution_count": 21,
     "metadata": {},
     "output_type": "execute_result"
    }
   ],
   "source": [
    "v = [0, 1, 2, 3, 4, 5, 6]\n",
    "print(mix(v, 2, -2))\n",
    "score([2, 0, 1, 3, 4, 5, 6]), score([0, 1, 3, 4, 5, 6, 2])"
   ]
  },
  {
   "cell_type": "code",
   "execution_count": 22,
   "id": "06a17a64-28bd-4534-82fa-a4758f12923f",
   "metadata": {},
   "outputs": [
    {
     "name": "stdout",
     "output_type": "stream",
     "text": [
      "--- mix([0, 1, 2, 3, 4, 5, 6], 2, -2)\n",
      "value 2 at pos 2 moves before pos 0\n"
     ]
    },
    {
     "data": {
      "text/plain": [
       "True"
      ]
     },
     "execution_count": 22,
     "metadata": {},
     "output_type": "execute_result"
    }
   ],
   "source": [
    "v = [0, 1, 2, 3, 4, 5, 6]\n",
    "mix(v, 2, -2) == [2, 0, 1, 3, 4, 5, 6]"
   ]
  },
  {
   "cell_type": "code",
   "execution_count": 23,
   "id": "01fe441a-dde1-4580-895d-c417a93f7c24",
   "metadata": {},
   "outputs": [
    {
     "name": "stdout",
     "output_type": "stream",
     "text": [
      "--- mix([0, 1, 2, 3, 4, 5, 6], 2, -3)\n",
      "value 2 at pos 2 moves before pos 6\n"
     ]
    },
    {
     "data": {
      "text/plain": [
       "True"
      ]
     },
     "execution_count": 23,
     "metadata": {},
     "output_type": "execute_result"
    }
   ],
   "source": [
    "v = [0, 1, 2, 3, 4, 5, 6]\n",
    "mix(v, 2, -3) == [0, 1, 3, 4, 5, 2, 6]"
   ]
  },
  {
   "cell_type": "code",
   "execution_count": 24,
   "id": "4c311a96-07b9-4061-8aab-81e3cf9e38eb",
   "metadata": {},
   "outputs": [
    {
     "name": "stdout",
     "output_type": "stream",
     "text": [
      "--- mix([0, 1, 2, 3, 4, 5, 6], 1, -3)\n",
      "value 1 at pos 1 moves before pos 5\n"
     ]
    },
    {
     "data": {
      "text/plain": [
       "True"
      ]
     },
     "execution_count": 24,
     "metadata": {},
     "output_type": "execute_result"
    }
   ],
   "source": [
    "v = [0, 1, 2, 3, 4, 5, 6]\n",
    "mix(v, 1, -3) == [0, 2, 3, 4, 1, 5, 6]"
   ]
  },
  {
   "cell_type": "code",
   "execution_count": 25,
   "id": "210bca0c-29a8-49b1-b5a6-1645a8919f14",
   "metadata": {},
   "outputs": [
    {
     "name": "stdout",
     "output_type": "stream",
     "text": [
      "--- mix([0, 1, 2, 3, 4, 5, 6], 6, 1)\n",
      "value 6 at pos 6 moves before pos 1\n"
     ]
    },
    {
     "data": {
      "text/plain": [
       "True"
      ]
     },
     "execution_count": 25,
     "metadata": {},
     "output_type": "execute_result"
    }
   ],
   "source": [
    "v = [0, 1, 2, 3, 4, 5, 6]\n",
    "mix(v, 6, 1) == [0, 6, 1, 2, 3, 4, 5]"
   ]
  },
  {
   "cell_type": "code",
   "execution_count": 26,
   "id": "959deec1-dd4f-439a-a2e6-336be822e238",
   "metadata": {},
   "outputs": [
    {
     "name": "stdout",
     "output_type": "stream",
     "text": [
      "--- mix([0, 1, 2, 3, 4, 5, 6], 6, 2)\n",
      "value 6 at pos 6 moves before pos 2\n"
     ]
    },
    {
     "data": {
      "text/plain": [
       "True"
      ]
     },
     "execution_count": 26,
     "metadata": {},
     "output_type": "execute_result"
    }
   ],
   "source": [
    "v = [0, 1, 2, 3, 4, 5, 6]\n",
    "mix(v, 6, 2) == [0, 1, 6, 2, 3, 4, 5]"
   ]
  },
  {
   "cell_type": "code",
   "execution_count": 27,
   "id": "95ab471c-34f7-4057-bcd3-b0af5af114f7",
   "metadata": {},
   "outputs": [
    {
     "name": "stdout",
     "output_type": "stream",
     "text": [
      "--- mix([0, 1, 2, 3, 4, 5, 6], 6, 0)\n",
      "value 6 at pos 6 does not move\n"
     ]
    },
    {
     "data": {
      "text/plain": [
       "True"
      ]
     },
     "execution_count": 27,
     "metadata": {},
     "output_type": "execute_result"
    }
   ],
   "source": [
    "v = [0, 1, 2, 3, 4, 5, 6]\n",
    "mix(v, 6, 0) == [0, 1, 2, 3, 4, 5, 6]"
   ]
  },
  {
   "cell_type": "code",
   "execution_count": 28,
   "id": "b0843272-dac1-4f53-8ded-c04606b6e502",
   "metadata": {},
   "outputs": [
    {
     "name": "stdout",
     "output_type": "stream",
     "text": [
      "--- mix([0, 1, 2, 3, 4, 5, 6], 0, 0)\n",
      "value 0 at pos 0 does not move\n"
     ]
    },
    {
     "data": {
      "text/plain": [
       "True"
      ]
     },
     "execution_count": 28,
     "metadata": {},
     "output_type": "execute_result"
    }
   ],
   "source": [
    "v = [0, 1, 2, 3, 4, 5, 6]\n",
    "mix(v, 0, 0) == [0, 1, 2, 3, 4, 5, 6]"
   ]
  },
  {
   "cell_type": "code",
   "execution_count": null,
   "id": "01b131b1-d167-49ed-9daa-b39f2c4d728b",
   "metadata": {},
   "outputs": [],
   "source": [
    "v = [0, 1, 2, 3, 4, 5, 6]\n",
    "mix(v, 2, 0) == [0, 1, 2, 3, 4, 5, 6]"
   ]
  },
  {
   "cell_type": "code",
   "execution_count": null,
   "id": "8e8f8d8c-ece3-4f54-9e05-679f31e2bb9c",
   "metadata": {},
   "outputs": [],
   "source": []
  },
  {
   "cell_type": "code",
   "execution_count": null,
   "id": "971ccd55-8383-4b13-926a-b7c72c85cd78",
   "metadata": {},
   "outputs": [],
   "source": []
  }
 ],
 "metadata": {
  "kernelspec": {
   "display_name": "Python 3 (ipykernel)",
   "language": "python",
   "name": "python3"
  },
  "language_info": {
   "codemirror_mode": {
    "name": "ipython",
    "version": 3
   },
   "file_extension": ".py",
   "mimetype": "text/x-python",
   "name": "python",
   "nbconvert_exporter": "python",
   "pygments_lexer": "ipython3",
   "version": "3.10.8"
  }
 },
 "nbformat": 4,
 "nbformat_minor": 5
}
