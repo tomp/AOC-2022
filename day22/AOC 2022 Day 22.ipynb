{
 "cells": [
  {
   "cell_type": "code",
   "execution_count": 1,
   "id": "19974fdb-7c99-40fd-a22e-0c82ffcd3203",
   "metadata": {},
   "outputs": [],
   "source": [
    "from day22 import *"
   ]
  },
  {
   "cell_type": "code",
   "execution_count": 2,
   "id": "9f33b198-a8af-4ca5-bb0f-2a031aa2f60e",
   "metadata": {},
   "outputs": [],
   "source": [
    "lines = load_text(SAMPLE_CASES[0][0], blank_lines=True, strip=False)"
   ]
  },
  {
   "cell_type": "code",
   "execution_count": 3,
   "id": "75fe361b-fe3c-4d33-9f98-38596a175943",
   "metadata": {},
   "outputs": [],
   "source": [
    "parts = parse_sections(lines)\n",
    "board = parse_lines(parts[0])\n",
    "route = parse_directions(parts[1][0])"
   ]
  },
  {
   "cell_type": "code",
   "execution_count": null,
   "id": "b1cacfea-f041-42c6-89e4-07f8e20f534b",
   "metadata": {},
   "outputs": [],
   "source": [
    "board.display()"
   ]
  },
  {
   "cell_type": "code",
   "execution_count": null,
   "id": "79822360-b68d-4a1d-96a8-85706b6bb985",
   "metadata": {},
   "outputs": [],
   "source": [
    "route"
   ]
  },
  {
   "cell_type": "code",
   "execution_count": null,
   "id": "ca814d5c-7288-4435-ac1a-e48811dd3e21",
   "metadata": {},
   "outputs": [],
   "source": [
    "lines = load_input(INPUTFILE, strip=False, blank_lines=True)"
   ]
  },
  {
   "cell_type": "code",
   "execution_count": null,
   "id": "b8312dbd-8053-4658-b890-91e39c913b82",
   "metadata": {},
   "outputs": [],
   "source": [
    "parts = parse_sections(lines)"
   ]
  },
  {
   "cell_type": "code",
   "execution_count": null,
   "id": "1a0011c0-75b6-4313-93b5-7c074d99d003",
   "metadata": {},
   "outputs": [],
   "source": [
    "len(parts)"
   ]
  },
  {
   "cell_type": "code",
   "execution_count": null,
   "id": "4e82af9a-c8fa-4a8a-9858-9d0bf4418874",
   "metadata": {},
   "outputs": [],
   "source": [
    "lines[-1]"
   ]
  },
  {
   "cell_type": "code",
   "execution_count": null,
   "id": "4efeea54-7522-48a2-8c64-62d9f4a0a23b",
   "metadata": {},
   "outputs": [],
   "source": [
    "len(\"    \")"
   ]
  },
  {
   "cell_type": "code",
   "execution_count": 5,
   "id": "ebad4ec8-8f42-48ec-91b7-b4c7510c2510",
   "metadata": {},
   "outputs": [],
   "source": [
    "line1 = parts[0][0]"
   ]
  },
  {
   "cell_type": "code",
   "execution_count": 6,
   "id": "d12a8950-407a-4e2a-a3c3-4693b439111a",
   "metadata": {},
   "outputs": [
    {
     "data": {
      "text/plain": [
       "'        ...#'"
      ]
     },
     "execution_count": 6,
     "metadata": {},
     "output_type": "execute_result"
    }
   ],
   "source": [
    "line1"
   ]
  },
  {
   "cell_type": "code",
   "execution_count": 7,
   "id": "bf1bfba2-b6cd-4533-b46a-64736a7e4b90",
   "metadata": {},
   "outputs": [],
   "source": [
    "m = BOARD_RE.match(line1)"
   ]
  },
  {
   "cell_type": "code",
   "execution_count": 8,
   "id": "451dafb1-9dc8-45fd-915c-e783bdc2a684",
   "metadata": {},
   "outputs": [
    {
     "data": {
      "text/plain": [
       "<re.Match object; span=(0, 12), match='        ...#'>"
      ]
     },
     "execution_count": 8,
     "metadata": {},
     "output_type": "execute_result"
    }
   ],
   "source": [
    "m"
   ]
  },
  {
   "cell_type": "code",
   "execution_count": 9,
   "id": "762e1d42-2855-4d43-91e0-0cd36e37c152",
   "metadata": {},
   "outputs": [
    {
     "data": {
      "text/plain": [
       "('        ', '...#', '')"
      ]
     },
     "execution_count": 9,
     "metadata": {},
     "output_type": "execute_result"
    }
   ],
   "source": [
    "m.groups()"
   ]
  },
  {
   "cell_type": "code",
   "execution_count": 11,
   "id": "bfe17119-8c32-454f-9f95-ad9694811a29",
   "metadata": {},
   "outputs": [
    {
     "data": {
      "text/plain": [
       "(8, 4)"
      ]
     },
     "execution_count": 11,
     "metadata": {},
     "output_type": "execute_result"
    }
   ],
   "source": [
    "len(m.group(1)), len(m.group(2))"
   ]
  },
  {
   "cell_type": "code",
   "execution_count": 12,
   "id": "ccf51267-a8b7-4464-8a33-504271f9685b",
   "metadata": {},
   "outputs": [
    {
     "data": {
      "text/plain": [
       "[8, 4, 0]"
      ]
     },
     "execution_count": 12,
     "metadata": {},
     "output_type": "execute_result"
    }
   ],
   "source": [
    "list(map(len, m.groups()))"
   ]
  },
  {
   "cell_type": "code",
   "execution_count": null,
   "id": "b2d7ed85-f787-4055-b136-09dce45810b0",
   "metadata": {},
   "outputs": [],
   "source": []
  }
 ],
 "metadata": {
  "kernelspec": {
   "display_name": "Python 3 (ipykernel)",
   "language": "python",
   "name": "python3"
  },
  "language_info": {
   "codemirror_mode": {
    "name": "ipython",
    "version": 3
   },
   "file_extension": ".py",
   "mimetype": "text/x-python",
   "name": "python",
   "nbconvert_exporter": "python",
   "pygments_lexer": "ipython3",
   "version": "3.10.8"
  }
 },
 "nbformat": 4,
 "nbformat_minor": 5
}
