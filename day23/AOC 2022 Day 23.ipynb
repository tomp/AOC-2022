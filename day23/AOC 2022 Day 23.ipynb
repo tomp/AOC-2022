{
 "cells": [
  {
   "cell_type": "code",
   "execution_count": 1,
   "id": "19974fdb-7c99-40fd-a22e-0c82ffcd3203",
   "metadata": {},
   "outputs": [],
   "source": [
    "from day23 import *"
   ]
  },
  {
   "cell_type": "code",
   "execution_count": 2,
   "id": "9f33b198-a8af-4ca5-bb0f-2a031aa2f60e",
   "metadata": {},
   "outputs": [],
   "source": [
    "lines = load_text(SAMPLE_CASES[0][0])"
   ]
  },
  {
   "cell_type": "code",
   "execution_count": 3,
   "id": "4584ef8d-f750-44db-8bf5-fd62daf27ce5",
   "metadata": {
    "tags": []
   },
   "outputs": [
    {
     "name": "stdout",
     "output_type": "stream",
     "text": [
      ">>> '....#..'\n",
      ">>> '..###.#'\n",
      ">>> '#...#.#'\n",
      ">>> '.#...##'\n",
      ">>> '#.###..'\n",
      ">>> '##.#.##'\n",
      ">>> '.#..#..'\n"
     ]
    }
   ],
   "source": [
    "elves = []\n",
    "for row, line in enumerate(lines):\n",
    "        print(f\">>> '{line}'\")\n",
    "        for col, cell in enumerate(line):\n",
    "            if cell == HASH:\n",
    "                elves.append(Pos(row, col))"
   ]
  },
  {
   "cell_type": "code",
   "execution_count": 4,
   "id": "a15611c0-73f1-4ed7-a4c0-afb5e88b2cd8",
   "metadata": {},
   "outputs": [
    {
     "data": {
      "text/plain": [
       "[Pos(row=0, col=4),\n",
       " Pos(row=1, col=2),\n",
       " Pos(row=1, col=3),\n",
       " Pos(row=1, col=4),\n",
       " Pos(row=1, col=6),\n",
       " Pos(row=2, col=0),\n",
       " Pos(row=2, col=4),\n",
       " Pos(row=2, col=6),\n",
       " Pos(row=3, col=1),\n",
       " Pos(row=3, col=5),\n",
       " Pos(row=3, col=6),\n",
       " Pos(row=4, col=0),\n",
       " Pos(row=4, col=2),\n",
       " Pos(row=4, col=3),\n",
       " Pos(row=4, col=4),\n",
       " Pos(row=5, col=0),\n",
       " Pos(row=5, col=1),\n",
       " Pos(row=5, col=3),\n",
       " Pos(row=5, col=5),\n",
       " Pos(row=5, col=6),\n",
       " Pos(row=6, col=1),\n",
       " Pos(row=6, col=4)]"
      ]
     },
     "execution_count": 4,
     "metadata": {},
     "output_type": "execute_result"
    }
   ],
   "source": [
    "elves"
   ]
  },
  {
   "cell_type": "code",
   "execution_count": 5,
   "id": "b9475d8b-0808-4797-9653-e61b41183c3d",
   "metadata": {},
   "outputs": [],
   "source": [
    "board = Board(elves)"
   ]
  },
  {
   "cell_type": "code",
   "execution_count": 6,
   "id": "be9e732a-8f98-4b5a-9f54-3edac5eb16a2",
   "metadata": {},
   "outputs": [
    {
     "data": {
      "text/plain": [
       "(0, 6, 0, 6)"
      ]
     },
     "execution_count": 6,
     "metadata": {},
     "output_type": "execute_result"
    }
   ],
   "source": [
    "board.bounds()"
   ]
  },
  {
   "cell_type": "code",
   "execution_count": null,
   "id": "a76a36bc-ca0b-4591-97c3-42b57773ee0b",
   "metadata": {},
   "outputs": [],
   "source": [
    "for pos in board.elves:\n",
    "    print(f\"{pos.row}, {pos.col}\")"
   ]
  },
  {
   "cell_type": "code",
   "execution_count": null,
   "id": "f94833e3-0034-4f0e-86e4-41df3cf6c0b8",
   "metadata": {},
   "outputs": [],
   "source": [
    "board.display()"
   ]
  },
  {
   "cell_type": "code",
   "execution_count": null,
   "id": "d3a69b5d-0d8b-4a23-a2c1-13f863864147",
   "metadata": {},
   "outputs": [],
   "source": []
  }
 ],
 "metadata": {
  "kernelspec": {
   "display_name": "Python 3 (ipykernel)",
   "language": "python",
   "name": "python3"
  },
  "language_info": {
   "codemirror_mode": {
    "name": "ipython",
    "version": 3
   },
   "file_extension": ".py",
   "mimetype": "text/x-python",
   "name": "python",
   "nbconvert_exporter": "python",
   "pygments_lexer": "ipython3",
   "version": "3.10.8"
  }
 },
 "nbformat": 4,
 "nbformat_minor": 5
}
